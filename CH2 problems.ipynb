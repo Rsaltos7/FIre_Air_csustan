{
 "cells": [
  {
   "cell_type": "code",
   "execution_count": 1,
   "id": "20275471-2c8b-4150-92ae-ef6225739eaa",
   "metadata": {},
   "outputs": [
    {
     "name": "stdout",
     "output_type": "stream",
     "text": [
      "hello robert\n"
     ]
    }
   ],
   "source": [
    "print(\"hello robert\")"
   ]
  },
  {
   "cell_type": "code",
   "execution_count": 3,
   "id": "76cd62a8-b2ee-4007-ac05-d2a1f124ad46",
   "metadata": {},
   "outputs": [
    {
     "name": "stdout",
     "output_type": "stream",
     "text": [
      "1\n"
     ]
    }
   ],
   "source": [
    "x=1\n",
    "print(x)"
   ]
  },
  {
   "cell_type": "code",
   "execution_count": 6,
   "id": "b7130cfc-60da-46d2-ab47-e7bcd2d32fb5",
   "metadata": {},
   "outputs": [
    {
     "name": "stdout",
     "output_type": "stream",
     "text": [
      "9\n",
      "1.0\n",
      "0\n",
      "6\n",
      "3.0\n",
      "1\n"
     ]
    }
   ],
   "source": [
    "x=3\n",
    "y=3\n",
    "print(x*y)\n",
    "print(x/y)\n",
    "print(x-y)\n",
    "print(x+y)\n",
    "print((x/y)*y)\n",
    "print(x//y)\n"
   ]
  },
  {
   "cell_type": "code",
   "execution_count": 19,
   "id": "ee903e83-2358-4c0f-81fe-6a271340104f",
   "metadata": {},
   "outputs": [
    {
     "name": "stdin",
     "output_type": "stream",
     "text": [
      "Enter the height of the tower in meters:  70\n"
     ]
    },
    {
     "name": "stdout",
     "output_type": "stream",
     "text": [
      "The time taken for the ball to hit the ground from 70.0 m is 3.78 seconds.\n"
     ]
    }
   ],
   "source": [
    "import math\n",
    "\n",
    "def calculate_time_to_hit_ground(height):\n",
    "    g = 9.81  # Acceleration due to gravity in m/s^2\n",
    "    time = math.sqrt((2 * height) / g)\n",
    "    return time\n",
    "\n",
    "# Main program\n",
    "if __name__ == \"__main__\":\n",
    "    try:\n",
    "        height = float(input(\"Enter the height of the tower in meters: \"))\n",
    "        if height < 0:\n",
    "            print(\"Height cannot be negative.\")\n",
    "        else:\n",
    "            time_taken = calculate_time_to_hit_ground(height)\n",
    "            print(f\"The time taken for the ball to hit the ground from {height} m is {time_taken:.2f} seconds.\")\n",
    "    except ValueError:\n",
    "        print(\"Please enter a valid number.\")\n"
   ]
  },
  {
   "cell_type": "code",
   "execution_count": 29,
   "id": "050c6e75-f3d4-478c-9959-fc3167a512eb",
   "metadata": {},
   "outputs": [
    {
     "name": "stdin",
     "output_type": "stream",
     "text": [
      "Enter the desired period T in seconds:  800000\n"
     ]
    },
    {
     "name": "stdout",
     "output_type": "stream",
     "text": [
      "The altitude of the satellite must be 179826337.88 meters.\n"
     ]
    }
   ],
   "source": [
    "import math\n",
    "\n",
    "def calculate_altitude(T):\n",
    "    G = 6.67e-11  # m^3 kg^-1 s^-2\n",
    "    M = 5.97e24   # kg\n",
    "    R = 6371e3    # m\n",
    "\n",
    "    h = (G * M * T**2 / (4 * math.pi**2))**(1/3) - R\n",
    "    return h\n",
    "\n",
    "# Main program\n",
    "if __name__ == \"__main__\":\n",
    "    try:\n",
    "        T = float(input(\"Enter the desired period T in seconds: \"))\n",
    "        altitude = calculate_altitude(T)\n",
    "        print(f\"The altitude of the satellite must be {altitude:.2f} meters.\")\n",
    "    except ValueError:\n",
    "        print(\"Please enter a valid number for the period.\")\n"
   ]
  },
  {
   "cell_type": "code",
   "execution_count": 31,
   "id": "1897e4c7-0107-4d37-9561-824c07aa6a26",
   "metadata": {},
   "outputs": [
    {
     "name": "stdin",
     "output_type": "stream",
     "text": [
      "Enter the x coordinate:  50\n",
      "Enter the y coordinate:  70\n"
     ]
    },
    {
     "name": "stdout",
     "output_type": "stream",
     "text": [
      "The polar coordinates are:\n",
      "Radius (r): 86.02\n",
      "Angle (θ): 54.46 degrees\n"
     ]
    }
   ],
   "source": [
    "import math\n",
    "\n",
    "def cartesian_to_polar(x, y):\n",
    "    r = math.sqrt(x**2 + y**2)  # Calculate radius\n",
    "    theta = math.atan2(y, x)  # Calculate angle in radians\n",
    "    theta_degrees = math.degrees(theta)  # Convert to degrees\n",
    "    return r, theta_degrees\n",
    "\n",
    "# Main program\n",
    "if __name__ == \"__main__\":\n",
    "    try:\n",
    "        x = float(input(\"Enter the x coordinate: \"))\n",
    "        y = float(input(\"Enter the y coordinate: \"))\n",
    "        \n",
    "        r, theta = cartesian_to_polar(x, y)\n",
    "        \n",
    "        print(f\"The polar coordinates are:\")\n",
    "        print(f\"Radius (r): {r:.2f}\")\n",
    "        print(f\"Angle (θ): {theta:.2f} degrees\")\n",
    "        \n",
    "    except ValueError:\n",
    "        print(\"Please enter valid numbers for the coordinates.\")\n"
   ]
  },
  {
   "cell_type": "code",
   "execution_count": 2,
   "id": "128cb364-1c41-4031-9299-ea7028c5edee",
   "metadata": {},
   "outputs": [
    {
     "name": "stdin",
     "output_type": "stream",
     "text": [
      "Enter the orbital period T in seconds:  9000\n"
     ]
    },
    {
     "name": "stdout",
     "output_type": "stream",
     "text": [
      "The altitude of the satellite is 2977497.49 meters.\n",
      "Altitude for T = 86400 seconds: 35855910.18 meters\n",
      "Altitude for T = 5400 seconds: 279321.63 meters\n",
      "Altitude for T = 2700 seconds: -2181559.90 meters\n",
      "Altitude for sidereal day (23.93 hours): 35778980.45 meters\n"
     ]
    }
   ],
   "source": [
    "import math\n",
    "\n",
    "def calculate_altitude(T):\n",
    "    G = 6.67e-11  # m^3 kg^-1 s^-2\n",
    "    M = 5.97e24   # kg\n",
    "    R = 6371000   # m (converted from km to m)\n",
    "    \n",
    "    r = ((G * M * T**2) / (4 * math.pi**2))**(1/3)\n",
    "    h = r - R\n",
    "    return h\n",
    "\n",
    "T = float(input(\"Enter the orbital period T in seconds: \"))\n",
    "altitude = calculate_altitude(T)\n",
    "print(f\"The altitude of the satellite is {altitude:.2f} meters.\")\n",
    "periods = [86400, 5400, 2700]\n",
    "for T in periods:\n",
    "    altitude = calculate_altitude(T)\n",
    "    print(f\"Altitude for T = {T} seconds: {altitude:.2f} meters\")\n",
    "T_sidereal = 86164  # seconds\n",
    "altitude_sidereal = calculate_altitude(T_sidereal)\n",
    "print(f\"Altitude for sidereal day (23.93 hours): {altitude_sidereal:.2f} meters\")\n"
   ]
  },
  {
   "cell_type": "code",
   "execution_count": 35,
   "id": "db902c0d-81ee-4ac6-8196-4a754b126fcd",
   "metadata": {},
   "outputs": [
    {
     "name": "stdin",
     "output_type": "stream",
     "text": [
      "Enter the distance to the planet in light years (x):  500\n",
      "Enter the speed as a fraction of the speed of light (v):  3\n"
     ]
    },
    {
     "name": "stdout",
     "output_type": "stream",
     "text": [
      "Speed must be between 0 and 1 (exclusive).\n"
     ]
    }
   ],
   "source": [
    "import math\n",
    "\n",
    "def calculate_travel_times(x, v):\n",
    "    # Time in the Earth's frame\n",
    "    t = x / v  # time in years\n",
    "    \n",
    "    # Time experienced by the passenger\n",
    "    gamma = 1 / math.sqrt(1 - v**2)  # Lorentz factor\n",
    "    tau = t / gamma  # proper time in years\n",
    "    \n",
    "    return t, tau\n",
    "\n",
    "# Main program\n",
    "if __name__ == \"__main__\":\n",
    "    try:\n",
    "        # Input from the user\n",
    "        x = float(input(\"Enter the distance to the planet in light years (x): \"))\n",
    "        v = float(input(\"Enter the speed as a fraction of the speed of light (v): \"))\n",
    "        \n",
    "        # Validate speed\n",
    "        if v >= 1 or v <= 0:\n",
    "            print(\"Speed must be between 0 and 1 (exclusive).\")\n",
    "        else:\n",
    "            # Calculate travel times\n",
    "            t, tau = calculate_travel_times(x, v)\n",
    "            print(f\"Time in the Earth frame: {t:.2f} years\")\n",
    "            print(f\"Time experienced by the passenger: {tau:.2f} years\")\n",
    "    \n",
    "    except ValueError:\n",
    "        print(\"Please enter valid numbers for distance and speed.\")\n"
   ]
  },
  {
   "cell_type": "code",
   "execution_count": 22,
   "id": "a513da53-5543-489c-bca2-0f61865c2c6a",
   "metadata": {},
   "outputs": [
    {
     "name": "stdout",
     "output_type": "stream",
     "text": [
      "0.0\n",
      "12.182493960703473\n",
      "0.3979400086720376\n",
      "0.8414709848078965\n",
      "0.5403023058681398\n",
      "1.5574077246549023\n",
      "1.5707963267948966\n",
      "0.0\n",
      "0.7853981633974483\n",
      "1.1752011936438014\n",
      "1.5430806348152437\n",
      "0.7615941559557649\n"
     ]
    }
   ],
   "source": [
    "import math\n",
    "x=math.log(1)\n",
    "print(x)\n",
    "y=math.exp(2.5)\n",
    "print(y)\n",
    "x1=math.log10(2.5)\n",
    "print(x1)\n",
    "s=math.sin(1)\n",
    "c=math.cos(1)\n",
    "t=math.tan(1)\n",
    "print(s)\n",
    "print(c)\n",
    "print(t)\n",
    "D=math.asin(1)\n",
    "E=math.acos(1)\n",
    "F=math.atan(1)\n",
    "print(D)\n",
    "print(E)\n",
    "print(F)\n",
    "G=math.sinh(1)\n",
    "H=math.cosh(1)\n",
    "J=math.tanh(1)\n",
    "print(G)\n",
    "print(H)\n",
    "print(J)\n",
    "\n",
    "\n"
   ]
  },
  {
   "cell_type": "code",
   "execution_count": 27,
   "id": "48e46d3b-13be-46c5-9fe7-3b6135a46798",
   "metadata": {},
   "outputs": [
    {
     "name": "stdout",
     "output_type": "stream",
     "text": [
      "2.0\n",
      "9.869604401089358\n"
     ]
    }
   ],
   "source": [
    "S=math.sqrt(4)\n",
    "print(S)\n",
    "#import pi\n",
    "D= math.pi**2\n",
    "print(D)"
   ]
  },
  {
   "cell_type": "code",
   "execution_count": 12,
   "id": "7192580a-990a-4691-9447-bd75ae342cef",
   "metadata": {},
   "outputs": [
    {
     "name": "stdin",
     "output_type": "stream",
     "text": [
      "Enter the value of r (radius):  10\n",
      "Enter the value of θ (angle in degrees):  60\n"
     ]
    },
    {
     "name": "stdout",
     "output_type": "stream",
     "text": [
      "Cartesian coordinates: x = 5.0, y = 8.7\n"
     ]
    }
   ],
   "source": [
    "#Example 2.2\n",
    "import math\n",
    "\n",
    "def polar_to_cartesian(r, theta):\n",
    "    # Convert degrees to radians for calculations\n",
    "    theta_rad = math.radians(theta)\n",
    "    \n",
    "    # Calculate Cartesian coordinates\n",
    "    x = r * math.cos(theta_rad)\n",
    "    y = r * math.sin(theta_rad)\n",
    "    \n",
    "    return x, y\n",
    "\n",
    "# Step 1: Get user input\n",
    "r = float(input(\"Enter the value of r (radius): \"))\n",
    "theta = float(input(\"Enter the value of θ (angle in degrees): \"))\n",
    "\n",
    "# Step 2: Convert to Cartesian coordinates\n",
    "x, y = polar_to_cartesian(r, theta)\n",
    "\n",
    "# Step 3: Print out the results\n",
    "print(f\"Cartesian coordinates: x = {x:.2}, y = {y:.2}\")\n"
   ]
  },
  {
   "cell_type": "code",
   "execution_count": 1,
   "id": "7ccd9d97-c4ba-4cb5-ad0b-47596b9167ca",
   "metadata": {},
   "outputs": [
    {
     "name": "stdin",
     "output_type": "stream",
     "text": [
      "Enter the distance to the planet (in light years):  10\n",
      "Enter the speed of the spaceship as a fraction of the speed of light (v/c):  .60\n"
     ]
    },
    {
     "name": "stdout",
     "output_type": "stream",
     "text": [
      "\n",
      "Time taken to reach the destination:\n",
      "(a) In the rest frame of an observer on Earth: 16.67 years\n",
      "(b) As perceived by a passenger on board the ship: 13.33 years\n"
     ]
    }
   ],
   "source": [
    "import math\n",
    "\n",
    "def main():\n",
    "    # Get user input for distance and speed\n",
    "    x = float(input(\"Enter the distance to the planet (in light years): \"))\n",
    "    v = float(input(\"Enter the speed of the spaceship as a fraction of the speed of light (v/c): \"))\n",
    "    \n",
    "    # Calculate time in the Earth frame\n",
    "    time_earth = x / v  # Time = Distance / Speed (in years)\n",
    "    \n",
    "    # Calculate time dilation for the passenger on the spaceship\n",
    "    time_passenger = time_earth * math.sqrt(1 - v**2)  # Time_dilated = Time * sqrt(1 - v^2)\n",
    "    \n",
    "    # Print the results\n",
    "    print(f\"\\nTime taken to reach the destination:\")\n",
    "    print(f\"(a) In the rest frame of an observer on Earth: {time_earth:.2} years\")\n",
    "    print(f\"(b) As perceived by a passenger on board the ship: {time_passenger:.2} years\")\n",
    "\n",
    "if __name__ == \"__main__\":\n",
    "    main()\n"
   ]
  },
  {
   "cell_type": "code",
   "execution_count": 3,
   "id": "01714c2b-2254-4876-9d35-50adf9b40de2",
   "metadata": {},
   "outputs": [
    {
     "name": "stdout",
     "output_type": "stream",
     "text": [
      "Transmission Probability (T): 0.7301\n",
      "Reflection Probability (R): 0.2699\n"
     ]
    }
   ],
   "source": [
    "import numpy as np\n",
    "\n",
    "def calculate_probabilities(E, V, m):\n",
    "    # Constants\n",
    "    h_bar = 1.0545718e-34  # Reduced Planck's constant in J·s\n",
    "\n",
    "    # Convert energy from eV to Joules (1 eV = 1.60218e-19 J)\n",
    "    E_joules = E * 1.60218e-19\n",
    "    V_joules = V * 1.60218e-19\n",
    "    \n",
    "    # Calculate wavevectors k1 and k2\n",
    "    k1 = np.sqrt(2 * m * E_joules) / h_bar\n",
    "    k2 = np.sqrt(2 * m * (E_joules - V_joules)) / h_bar\n",
    "\n",
    "    # Calculate transmission (T) and reflection (R) probabilities\n",
    "    T = (4 * k1 * k2) / ((k1 + k2) ** 2)\n",
    "    R = ((k1 - k2) / (k1 + k2)) ** 2\n",
    "\n",
    "    return T, R\n",
    "\n",
    "def main():\n",
    "    # Given values\n",
    "    m = 9.11e-31  # mass of electron in kg\n",
    "    E = 10  # energy in eV\n",
    "    V = 9   # potential height in eV\n",
    "\n",
    "    # Calculate probabilities\n",
    "    T, R = calculate_probabilities(E, V, m)\n",
    "\n",
    "    # Print results\n",
    "    print(f\"Transmission Probability (T): {T:.4f}\")\n",
    "    print(f\"Reflection Probability (R): {R:.4f}\")\n",
    "\n",
    "if __name__ == \"__main__\":\n",
    "    main()\n"
   ]
  },
  {
   "cell_type": "code",
   "execution_count": 14,
   "id": "a6580840-5921-47d4-90c5-2db6bd67392d",
   "metadata": {},
   "outputs": [
    {
     "name": "stdin",
     "output_type": "stream",
     "text": [
      "Enter the distance to the Sun (perihelion) in meters:  800\n",
      "Enter the velocity at perihelion in m/s:  10\n"
     ]
    },
    {
     "name": "stdout",
     "output_type": "stream",
     "text": [
      "Distance at aphelion (l2): 8e+02 m\n",
      "Velocity at aphelion (v2): 1e+01 m/s\n",
      "Orbital period (T): 5e+02 s\n",
      "Eccentricity (e): 0.0\n"
     ]
    }
   ],
   "source": [
    "import math\n",
    "\n",
    "def calculate_orbit_properties(l1, v1):\n",
    "    # Constants\n",
    "    G = 6.6738e-11  # Gravitational constant in m^3 kg^-1 s^-2\n",
    "    M = 1.9891e30   # Mass of the Sun in kg\n",
    "\n",
    "    # Calculate coefficients for the quadratic equation\n",
    "    a = 1\n",
    "    b = -2 * G * M / (v1 * l1)\n",
    "    c = -(v1**2 - (2 * G * M / l1))\n",
    "\n",
    "    # Solve the quadratic equation for v2\n",
    "    discriminant = b**2 - 4 * a * c\n",
    "    v2_positive = (-b + math.sqrt(discriminant)) / (2 * a)\n",
    "    v2_negative = (-b - math.sqrt(discriminant)) / (2 * a)\n",
    "\n",
    "    # We take the smaller root for v2\n",
    "    v2 = min(v2_positive, v2_negative)\n",
    "\n",
    "    # Calculate l2\n",
    "    l2 = l1 * v1 / v2\n",
    "\n",
    "    # Calculate semi-major axis (a), semi-minor axis (b), orbital period (T), eccentricity (e)\n",
    "    semi_major_axis = (l1 + l2) / 2\n",
    "    semi_minor_axis = math.sqrt(l1 * l2)\n",
    "    T = (2 * math.pi * semi_major_axis * semi_minor_axis) / (l1 * v1)\n",
    "    eccentricity = (l2 - l1) / (l2 + l1)\n",
    "\n",
    "    return l2, v2, T, eccentricity\n",
    "\n",
    "# User input and execution\n",
    "def main():\n",
    "    l1 = float(input(\"Enter the distance to the Sun (perihelion) in meters: \"))\n",
    "    v1 = float(input(\"Enter the velocity at perihelion in m/s: \"))\n",
    "\n",
    "    l2, v2, T, e = calculate_orbit_properties(l1, v1)\n",
    "\n",
    "    print(f\"Distance at aphelion (l2): {l2:.2} m\")\n",
    "    print(f\"Velocity at aphelion (v2): {v2:.2} m/s\")\n",
    "    print(f\"Orbital period (T): {T:.2} s\")\n",
    "    print(f\"Eccentricity (e): {e:.2}\")\n",
    "\n",
    "# Example test cases\n",
    "if __name__ == \"__main__\":\n",
    "    main()\n"
   ]
  },
  {
   "cell_type": "code",
   "execution_count": 20,
   "id": "659a2fa4-d5b2-41e7-81db-a095e1cf00c3",
   "metadata": {},
   "outputs": [
    {
     "name": "stdin",
     "output_type": "stream",
     "text": [
      "Enter a whole number no greater than ten:  5\n"
     ]
    }
   ],
   "source": [
    "x = int(input(\"Enter a whole number no greater than ten: \"))\n",
    "if x>10:\n",
    "    print(\"You entered a number greater than ten.\")\n",
    "    print(\"Let me fix that for you.\")\n",
    "    x > 10\n",
    "    print(\"Your number is\",x)"
   ]
  },
  {
   "cell_type": "code",
   "execution_count": 30,
   "id": "cd1bf004-424e-4905-9e32-33d94208d80a",
   "metadata": {},
   "outputs": [
    {
     "name": "stdin",
     "output_type": "stream",
     "text": [
      "Enter a whole number no greater than ten:  7\n"
     ]
    },
    {
     "name": "stdout",
     "output_type": "stream",
     "text": [
      "Your number is 7\n"
     ]
    }
   ],
   "source": [
    "x = int(input(\"Enter a whole number no greater than ten: \"))\n",
    "if x>10:\n",
    "    print(\"You entered a number greater than ten\",x)\n",
    "    print(\"Let me fix that for you.\")\n",
    "    print(\"your number is 10\")\n",
    "if x < 10:\n",
    "    print(\"Your number is\",x)"
   ]
  },
  {
   "cell_type": "code",
   "execution_count": 32,
   "id": "b4cb9d4e-e556-4239-97dc-ca8f5d9f64d1",
   "metadata": {},
   "outputs": [
    {
     "name": "stdin",
     "output_type": "stream",
     "text": [
      "Enter a whole number no greater than ten:  11\n"
     ]
    },
    {
     "name": "stdout",
     "output_type": "stream",
     "text": [
      "You entered a number greater than ten 11\n",
      "Let me fix that for you.\n",
      "your number is 10\n"
     ]
    }
   ],
   "source": [
    "x = int(input(\"Enter a whole number no greater than ten: \"))\n",
    "if x>10:\n",
    "    print(\"You entered a number greater than ten\",x)\n",
    "    print(\"Let me fix that for you.\")\n",
    "    print(\"your number is 10\")\n",
    "if x < 10:\n",
    "    print(\"Your number is\",x)"
   ]
  },
  {
   "cell_type": "code",
   "execution_count": 38,
   "id": "b16be27a-47d7-4313-adab-4a042473377a",
   "metadata": {},
   "outputs": [
    {
     "name": "stdin",
     "output_type": "stream",
     "text": [
      "Enter a number no greater than ten: 11\n"
     ]
    },
    {
     "name": "stdout",
     "output_type": "stream",
     "text": [
      "your number is either to big or too small\n"
     ]
    }
   ],
   "source": [
    "x = int(input(\"Enter a number no greater than ten:\"))\n",
    "if x<10:\n",
    "        print(\"You number is\",x)\n",
    "if x>10 or x<1:\n",
    "        print(\"your number is either to big or too small\")\n"
   ]
  },
  {
   "cell_type": "code",
   "execution_count": null,
   "id": "b33f761a-d990-455f-9851-4b8161043770",
   "metadata": {},
   "outputs": [],
   "source": [
    "x = int(input(\"Enter a number no greater than ten:\"))\n",
    "if x>10:\n",
    "    print(\"Your number is greater than ten.\")\n",
    "elif x>8:\n",
    "    print(\"Your number is OK, but you’re cutting it close.\")\n",
    "else:\n",
    "    print(\"Your number is fine. Move along.\")"
   ]
  },
  {
   "cell_type": "code",
   "execution_count": null,
   "id": "e31c9928-eb7b-441e-a9ec-0c338aed972c",
   "metadata": {},
   "outputs": [],
   "source": [
    "x= int(input(\"enter a number less then ten:\"))\n",
    "while x>10:\n",
    "    print(\"wrong try again\")\n",
    "    break\n",
    "while x<10:\n",
    "    print(\"great choice\")\n",
    "    break"
   ]
  },
  {
   "cell_type": "code",
   "execution_count": 7,
   "id": "5af6e59f-438f-4bb4-bef1-0de1853648d0",
   "metadata": {},
   "outputs": [
    {
     "name": "stdin",
     "output_type": "stream",
     "text": [
      "Enter an integer:  6\n"
     ]
    },
    {
     "name": "stdout",
     "output_type": "stream",
     "text": [
      "even\n"
     ]
    }
   ],
   "source": [
    "#ex.2.3\n",
    "n = int(input(\"Enter an integer: \"))\n",
    "if n%2==0:\n",
    "    print(\"even\")\n",
    "else:\n",
    "    print(\"odd\")"
   ]
  },
  {
   "cell_type": "code",
   "execution_count": 9,
   "id": "7c79af6d-2ca7-44da-9fb1-d754b2d32429",
   "metadata": {},
   "outputs": [
    {
     "name": "stdout",
     "output_type": "stream",
     "text": [
      "Catalan numbers up to one billion: [1, 2, 5, 14, 42, 132, 429, 1430, 4862, 16796, 58786, 208012, 742900, 2674440, 9694845, 35357670, 129644790, 477638700]\n"
     ]
    }
   ],
   "source": [
    "#excersise 2.7\n",
    "def catalan_numbers(limit):\n",
    "    C = [1]  # C0\n",
    "    n = 0\n",
    "    while True:\n",
    "        n += 1\n",
    "        next_catalan = (4 * n + 2) * C[n - 1] // (n + 2)\n",
    "        if next_catalan > limit:\n",
    "            break\n",
    "        C.append(next_catalan)\n",
    "    return C\n",
    "\n",
    "if __name__ == \"__main__\":\n",
    "    limit = 1_000_000_000\n",
    "    catalans = catalan_numbers(limit)\n",
    "    print(\"Catalan numbers up to one billion:\", catalans)\n"
   ]
  },
  {
   "cell_type": "code",
   "execution_count": 11,
   "id": "444f904a-e8e1-4ab1-b69d-e14ef89fdd51",
   "metadata": {},
   "outputs": [
    {
     "name": "stdout",
     "output_type": "stream",
     "text": [
      "[3. 3. 3. 3.]\n",
      "[1.         1.33333333 1.5        1.6       ]\n",
      "[1.         0.5        0.33333333 0.25      ]\n"
     ]
    }
   ],
   "source": [
    "#excersise 2.8\n",
    "import numpy as np\n",
    "\n",
    "a = np.array([1, 2, 3, 4], int)\n",
    "b = np.array([2, 4, 6, 8], int)\n",
    "\n",
    "print(b / a + 1)  # Output: [3.  3.  3.  3.]\n",
    "print(b / (a + 1))  # Output: [2.  2.  2.  2.]\n",
    "print(1 / a)  # Output: [1.  0.5 0.333... 0.25]\n"
   ]
  },
  {
   "cell_type": "code",
   "execution_count": 13,
   "id": "b6390211-38be-450c-926c-7700f0c47111",
   "metadata": {},
   "outputs": [
    {
     "name": "stdout",
     "output_type": "stream",
     "text": [
      "Madelung constant approximation: -1.6925789282594415\n"
     ]
    }
   ],
   "source": [
    "#excersise2.9\n",
    "import numpy as np\n",
    "\n",
    "def madelung_constant(L):\n",
    "    M = 0\n",
    "    for i in range(-L, L + 1):\n",
    "        for j in range(-L, L + 1):\n",
    "            for k in range(-L, L + 1):\n",
    "                if (i, j, k) != (0, 0, 0):\n",
    "                    distance = np.sqrt(i**2 + j**2 + k**2)\n",
    "                    sign = (-1) ** (i + j + k)\n",
    "                    M += sign / distance\n",
    "    return M\n",
    "\n",
    "if __name__ == \"__main__\":\n",
    "    L = 10  # Adjust L for a balance between accuracy and computation time\n",
    "    M = madelung_constant(L)\n",
    "    print(\"Madelung constant approximation:\", M)\n"
   ]
  },
  {
   "cell_type": "code",
   "execution_count": 15,
   "id": "1dd49e8a-dd80-45da-a7d4-415693821c9d",
   "metadata": {},
   "outputs": [
    {
     "name": "stdout",
     "output_type": "stream",
     "text": [
      "Binding energy of nucleus with A=58, Z=28: -708.84 MeV\n",
      "Binding energy per nucleon: -12.22 MeV/nucleon\n"
     ]
    }
   ],
   "source": [
    "#excercise2.10\n",
    "def binding_energy(A, Z):\n",
    "    a1, a2, a3, a4, a5 = 15.8, 18.3, 0.714, 23.2, -12.0\n",
    "    if A % 2 == 0:\n",
    "        if Z % 2 == 0:\n",
    "            a5 = 0\n",
    "        else:\n",
    "            a5 = 12.0\n",
    "    B = (a1 * A - a2 * A**(2/3) - a3 * A**(1/2) - a4 * A + a5 * (Z**2) / (A**(1/3)))\n",
    "    return B\n",
    "\n",
    "if __name__ == \"__main__\":\n",
    "    A = 58\n",
    "    Z = 28\n",
    "    B = binding_energy(A, Z)\n",
    "    print(f\"Binding energy of nucleus with A={A}, Z={Z}: {B:.2f} MeV\")\n",
    "    print(f\"Binding energy per nucleon: {B/A:.2f} MeV/nucleon\")\n",
    "\n"
   ]
  },
  {
   "cell_type": "code",
   "execution_count": 19,
   "id": "4bc55636-e4bc-48b4-ae96-f6d23d282d44",
   "metadata": {},
   "outputs": [
    {
     "name": "stdout",
     "output_type": "stream",
     "text": [
      "1\n",
      "1 1\n",
      "1 2 1\n",
      "1 3 3 1\n",
      "1 4 6 4 1\n",
      "1 5 10 10 5 1\n",
      "1 6 15 20 15 6 1\n",
      "1 7 21 35 35 21 7 1\n",
      "1 8 28 56 70 56 28 8 1\n",
      "1 9 36 84 126 126 84 36 9 1\n",
      "1 10 45 120 210 252 210 120 45 10 1\n",
      "1 11 55 165 330 462 462 330 165 55 11 1\n",
      "1 12 66 220 495 792 924 792 495 220 66 12 1\n",
      "1 13 78 286 715 1287 1716 1716 1287 715 286 78 13 1\n",
      "1 14 91 364 1001 2002 3003 3432 3003 2002 1001 364 91 14 1\n",
      "1 15 105 455 1365 3003 5005 6435 6435 5005 3003 1365 455 105 15 1\n",
      "1 16 120 560 1820 4368 8008 11440 12870 11440 8008 4368 1820 560 120 16 1\n",
      "1 17 136 680 2380 6188 12376 19448 24310 24310 19448 12376 6188 2380 680 136 17 1\n",
      "1 18 153 816 3060 8568 18564 31824 43758 48620 43758 31824 18564 8568 3060 816 153 18 1\n",
      "1 19 171 969 3876 11628 27132 50388 75582 92378 92378 75582 50388 27132 11628 3876 969 171 19 1\n"
     ]
    }
   ],
   "source": [
    "#excercise2.11\n",
    "def binomial(n, k):\n",
    "    if k == 0:\n",
    "        return 1\n",
    "    if k > n:\n",
    "        return 0\n",
    "    numerator = 1\n",
    "    denominator = 1\n",
    "    for i in range(k):\n",
    "        numerator *= (n - i)\n",
    "        denominator *= (i + 1)\n",
    "    return numerator // denominator\n",
    "\n",
    "def pascals_triangle(rows):\n",
    "    for n in range(rows):\n",
    "        line = [binomial(n, k) for k in range(n + 1)]\n",
    "        print(\" \".join(map(str, line)))\n",
    "\n",
    "if __name__ == \"__main__\":\n",
    "    pascals_triangle(20)\n"
   ]
  },
  {
   "cell_type": "code",
   "execution_count": 21,
   "id": "d37ab87f-3b78-49ea-8552-be04db41edf7",
   "metadata": {},
   "outputs": [
    {
     "name": "stdout",
     "output_type": "stream",
     "text": [
      "Primes up to 10,000: [2, 3, 5, 7, 11, 13, 17, 19, 23, 29, 31, 37, 41, 43, 47, 53, 59, 61, 67, 71, 73, 79, 83, 89, 97, 101, 103, 107, 109, 113, 127, 131, 137, 139, 149, 151, 157, 163, 167, 173, 179, 181, 191, 193, 197, 199, 211, 223, 227, 229, 233, 239, 241, 251, 257, 263, 269, 271, 277, 281, 283, 293, 307, 311, 313, 317, 331, 337, 347, 349, 353, 359, 367, 373, 379, 383, 389, 397, 401, 409, 419, 421, 431, 433, 439, 443, 449, 457, 461, 463, 467, 479, 487, 491, 499, 503, 509, 521, 523, 541, 547, 557, 563, 569, 571, 577, 587, 593, 599, 601, 607, 613, 617, 619, 631, 641, 643, 647, 653, 659, 661, 673, 677, 683, 691, 701, 709, 719, 727, 733, 739, 743, 751, 757, 761, 769, 773, 787, 797, 809, 811, 821, 823, 827, 829, 839, 853, 857, 859, 863, 877, 881, 883, 887, 907, 911, 919, 929, 937, 941, 947, 953, 967, 971, 977, 983, 991, 997, 1009, 1013, 1019, 1021, 1031, 1033, 1039, 1049, 1051, 1061, 1063, 1069, 1087, 1091, 1093, 1097, 1103, 1109, 1117, 1123, 1129, 1151, 1153, 1163, 1171, 1181, 1187, 1193, 1201, 1213, 1217, 1223, 1229, 1231, 1237, 1249, 1259, 1277, 1279, 1283, 1289, 1291, 1297, 1301, 1303, 1307, 1319, 1321, 1327, 1361, 1367, 1373, 1381, 1399, 1409, 1423, 1427, 1429, 1433, 1439, 1447, 1451, 1453, 1459, 1471, 1481, 1483, 1487, 1489, 1493, 1499, 1511, 1523, 1531, 1543, 1549, 1553, 1559, 1567, 1571, 1579, 1583, 1597, 1601, 1607, 1609, 1613, 1619, 1621, 1627, 1637, 1657, 1663, 1667, 1669, 1693, 1697, 1699, 1709, 1721, 1723, 1733, 1741, 1747, 1753, 1759, 1777, 1783, 1787, 1789, 1801, 1811, 1823, 1831, 1847, 1861, 1867, 1871, 1873, 1877, 1879, 1889, 1901, 1907, 1913, 1931, 1933, 1949, 1951, 1973, 1979, 1987, 1993, 1997, 1999, 2003, 2011, 2017, 2027, 2029, 2039, 2053, 2063, 2069, 2081, 2083, 2087, 2089, 2099, 2111, 2113, 2129, 2131, 2137, 2141, 2143, 2153, 2161, 2179, 2203, 2207, 2213, 2221, 2237, 2239, 2243, 2251, 2267, 2269, 2273, 2281, 2287, 2293, 2297, 2309, 2311, 2333, 2339, 2341, 2347, 2351, 2357, 2371, 2377, 2381, 2383, 2389, 2393, 2399, 2411, 2417, 2423, 2437, 2441, 2447, 2459, 2467, 2473, 2477, 2503, 2521, 2531, 2539, 2543, 2549, 2551, 2557, 2579, 2591, 2593, 2609, 2617, 2621, 2633, 2647, 2657, 2659, 2663, 2671, 2677, 2683, 2687, 2689, 2693, 2699, 2707, 2711, 2713, 2719, 2729, 2731, 2741, 2749, 2753, 2767, 2777, 2789, 2791, 2797, 2801, 2803, 2819, 2833, 2837, 2843, 2851, 2857, 2861, 2879, 2887, 2897, 2903, 2909, 2917, 2927, 2939, 2953, 2957, 2963, 2969, 2971, 2999, 3001, 3011, 3019, 3023, 3037, 3041, 3049, 3061, 3067, 3079, 3083, 3089, 3109, 3119, 3121, 3137, 3163, 3167, 3169, 3181, 3187, 3191, 3203, 3209, 3217, 3221, 3229, 3251, 3253, 3257, 3259, 3271, 3299, 3301, 3307, 3313, 3319, 3323, 3329, 3331, 3343, 3347, 3359, 3361, 3371, 3373, 3389, 3391, 3407, 3413, 3433, 3449, 3457, 3461, 3463, 3467, 3469, 3491, 3499, 3511, 3517, 3527, 3529, 3533, 3539, 3541, 3547, 3557, 3559, 3571, 3581, 3583, 3593, 3607, 3613, 3617, 3623, 3631, 3637, 3643, 3659, 3671, 3673, 3677, 3691, 3697, 3701, 3709, 3719, 3727, 3733, 3739, 3761, 3767, 3769, 3779, 3793, 3797, 3803, 3821, 3823, 3833, 3847, 3851, 3853, 3863, 3877, 3881, 3889, 3907, 3911, 3917, 3919, 3923, 3929, 3931, 3943, 3947, 3967, 3989, 4001, 4003, 4007, 4013, 4019, 4021, 4027, 4049, 4051, 4057, 4073, 4079, 4091, 4093, 4099, 4111, 4127, 4129, 4133, 4139, 4153, 4157, 4159, 4177, 4201, 4211, 4217, 4219, 4229, 4231, 4241, 4243, 4253, 4259, 4261, 4271, 4273, 4283, 4289, 4297, 4327, 4337, 4339, 4349, 4357, 4363, 4373, 4391, 4397, 4409, 4421, 4423, 4441, 4447, 4451, 4457, 4463, 4481, 4483, 4493, 4507, 4513, 4517, 4519, 4523, 4547, 4549, 4561, 4567, 4583, 4591, 4597, 4603, 4621, 4637, 4639, 4643, 4649, 4651, 4657, 4663, 4673, 4679, 4691, 4703, 4721, 4723, 4729, 4733, 4751, 4759, 4783, 4787, 4789, 4793, 4799, 4801, 4813, 4817, 4831, 4861, 4871, 4877, 4889, 4903, 4909, 4919, 4931, 4933, 4937, 4943, 4951, 4957, 4967, 4969, 4973, 4987, 4993, 4999, 5003, 5009, 5011, 5021, 5023, 5039, 5051, 5059, 5077, 5081, 5087, 5099, 5101, 5107, 5113, 5119, 5147, 5153, 5167, 5171, 5179, 5189, 5197, 5209, 5227, 5231, 5233, 5237, 5261, 5273, 5279, 5281, 5297, 5303, 5309, 5323, 5333, 5347, 5351, 5381, 5387, 5393, 5399, 5407, 5413, 5417, 5419, 5431, 5437, 5441, 5443, 5449, 5471, 5477, 5479, 5483, 5501, 5503, 5507, 5519, 5521, 5527, 5531, 5557, 5563, 5569, 5573, 5581, 5591, 5623, 5639, 5641, 5647, 5651, 5653, 5657, 5659, 5669, 5683, 5689, 5693, 5701, 5711, 5717, 5737, 5741, 5743, 5749, 5779, 5783, 5791, 5801, 5807, 5813, 5821, 5827, 5839, 5843, 5849, 5851, 5857, 5861, 5867, 5869, 5879, 5881, 5897, 5903, 5923, 5927, 5939, 5953, 5981, 5987, 6007, 6011, 6029, 6037, 6043, 6047, 6053, 6067, 6073, 6079, 6089, 6091, 6101, 6113, 6121, 6131, 6133, 6143, 6151, 6163, 6173, 6197, 6199, 6203, 6211, 6217, 6221, 6229, 6247, 6257, 6263, 6269, 6271, 6277, 6287, 6299, 6301, 6311, 6317, 6323, 6329, 6337, 6343, 6353, 6359, 6361, 6367, 6373, 6379, 6389, 6397, 6421, 6427, 6449, 6451, 6469, 6473, 6481, 6491, 6521, 6529, 6547, 6551, 6553, 6563, 6569, 6571, 6577, 6581, 6599, 6607, 6619, 6637, 6653, 6659, 6661, 6673, 6679, 6689, 6691, 6701, 6703, 6709, 6719, 6733, 6737, 6761, 6763, 6779, 6781, 6791, 6793, 6803, 6823, 6827, 6829, 6833, 6841, 6857, 6863, 6869, 6871, 6883, 6899, 6907, 6911, 6917, 6947, 6949, 6959, 6961, 6967, 6971, 6977, 6983, 6991, 6997, 7001, 7013, 7019, 7027, 7039, 7043, 7057, 7069, 7079, 7103, 7109, 7121, 7127, 7129, 7151, 7159, 7177, 7187, 7193, 7207, 7211, 7213, 7219, 7229, 7237, 7243, 7247, 7253, 7283, 7297, 7307, 7309, 7321, 7331, 7333, 7349, 7351, 7369, 7393, 7411, 7417, 7433, 7451, 7457, 7459, 7477, 7481, 7487, 7489, 7499, 7507, 7517, 7523, 7529, 7537, 7541, 7547, 7549, 7559, 7561, 7573, 7577, 7583, 7589, 7591, 7603, 7607, 7621, 7639, 7643, 7649, 7669, 7673, 7681, 7687, 7691, 7699, 7703, 7717, 7723, 7727, 7741, 7753, 7757, 7759, 7789, 7793, 7817, 7823, 7829, 7841, 7853, 7867, 7873, 7877, 7879, 7883, 7901, 7907, 7919, 7927, 7933, 7937, 7949, 7951, 7963, 7993, 8009, 8011, 8017, 8039, 8053, 8059, 8069, 8081, 8087, 8089, 8093, 8101, 8111, 8117, 8123, 8147, 8161, 8167, 8171, 8179, 8191, 8209, 8219, 8221, 8231, 8233, 8237, 8243, 8263, 8269, 8273, 8287, 8291, 8293, 8297, 8311, 8317, 8329, 8353, 8363, 8369, 8377, 8387, 8389, 8419, 8423, 8429, 8431, 8443, 8447, 8461, 8467, 8501, 8513, 8521, 8527, 8537, 8539, 8543, 8563, 8573, 8581, 8597, 8599, 8609, 8623, 8627, 8629, 8641, 8647, 8663, 8669, 8677, 8681, 8689, 8693, 8699, 8707, 8713, 8719, 8731, 8737, 8741, 8747, 8753, 8761, 8779, 8783, 8803, 8807, 8819, 8821, 8831, 8837, 8839, 8849, 8861, 8863, 8867, 8887, 8893, 8923, 8929, 8933, 8941, 8951, 8963, 8969, 8971, 8999, 9001, 9007, 9011, 9013, 9029, 9041, 9043, 9049, 9059, 9067, 9091, 9103, 9109, 9127, 9133, 9137, 9151, 9157, 9161, 9173, 9181, 9187, 9199, 9203, 9209, 9221, 9227, 9239, 9241, 9257, 9277, 9281, 9283, 9293, 9311, 9319, 9323, 9337, 9341, 9343, 9349, 9371, 9377, 9391, 9397, 9403, 9413, 9419, 9421, 9431, 9433, 9437, 9439, 9461, 9463, 9467, 9473, 9479, 9491, 9497, 9511, 9521, 9533, 9539, 9547, 9551, 9587, 9601, 9613, 9619, 9623, 9629, 9631, 9643, 9649, 9661, 9677, 9679, 9689, 9697, 9719, 9721, 9733, 9739, 9743, 9749, 9767, 9769, 9781, 9787, 9791, 9803, 9811, 9817, 9829, 9833, 9839, 9851, 9857, 9859, 9871, 9883, 9887, 9901, 9907, 9923, 9929, 9931, 9941, 9949, 9967, 9973]\n"
     ]
    }
   ],
   "source": [
    "#excercise2.12\n",
    "def is_prime(n, primes):\n",
    "    for p in primes:\n",
    "        if p * p > n:\n",
    "            break\n",
    "        if n % p == 0:\n",
    "            return False\n",
    "    return True\n",
    "\n",
    "def generate_primes(limit):\n",
    "    primes = [2]\n",
    "    for n in range(3, limit + 1, 2):\n",
    "        if is_prime(n, primes):\n",
    "            primes.append(n)\n",
    "    return primes\n",
    "\n",
    "if __name__ == \"__main__\":\n",
    "    limit = 10000\n",
    "    primes = generate_primes(limit)\n",
    "    print(\"Primes up to 10,000:\", primes)\n"
   ]
  },
  {
   "cell_type": "code",
   "execution_count": null,
   "id": "f68931d5-3f77-4594-91b5-74bea74e42a8",
   "metadata": {},
   "outputs": [],
   "source": [
    "excercise2.13\n",
    "def catalan(n):\n",
    "    if n == 0:\n",
    "        return 1\n",
    "    return (4 * n - 2) * catalan(n - 1) // (n + 1)\n",
    "\n",
    "if __name__ == \"__main__\":\n",
    "    print(\"C100:\", catalan(100))\n"
   ]
  }
 ],
 "metadata": {
  "kernelspec": {
   "display_name": "anaconda-2024.02-py310",
   "language": "python",
   "name": "conda-env-anaconda-2024.02-py310-py"
  },
  "language_info": {
   "codemirror_mode": {
    "name": "ipython",
    "version": 3
   },
   "file_extension": ".py",
   "mimetype": "text/x-python",
   "name": "python",
   "nbconvert_exporter": "python",
   "pygments_lexer": "ipython3",
   "version": "3.10.14"
  }
 },
 "nbformat": 4,
 "nbformat_minor": 5
}
