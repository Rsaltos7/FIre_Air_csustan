{
 "cells": [
  {
   "cell_type": "code",
   "execution_count": 1,
   "id": "20275471-2c8b-4150-92ae-ef6225739eaa",
   "metadata": {},
   "outputs": [
    {
     "name": "stdout",
     "output_type": "stream",
     "text": [
      "hello robert\n"
     ]
    }
   ],
   "source": [
    "print(\"hello robert\")"
   ]
  },
  {
   "cell_type": "code",
   "execution_count": 3,
   "id": "76cd62a8-b2ee-4007-ac05-d2a1f124ad46",
   "metadata": {},
   "outputs": [
    {
     "name": "stdout",
     "output_type": "stream",
     "text": [
      "1\n"
     ]
    }
   ],
   "source": [
    "x=1\n",
    "print(x)"
   ]
  },
  {
   "cell_type": "code",
   "execution_count": 19,
   "id": "ee903e83-2358-4c0f-81fe-6a271340104f",
   "metadata": {},
   "outputs": [
    {
     "name": "stdin",
     "output_type": "stream",
     "text": [
      "Enter the height of the tower in meters:  70\n"
     ]
    },
    {
     "name": "stdout",
     "output_type": "stream",
     "text": [
      "The time taken for the ball to hit the ground from 70.0 m is 3.78 seconds.\n"
     ]
    }
   ],
   "source": [
    "import math\n",
    "\n",
    "def calculate_time_to_hit_ground(height):\n",
    "    g = 9.81  # Acceleration due to gravity in m/s^2\n",
    "    time = math.sqrt((2 * height) / g)\n",
    "    return time\n",
    "\n",
    "# Main program\n",
    "if __name__ == \"__main__\":\n",
    "    try:\n",
    "        height = float(input(\"Enter the height of the tower in meters: \"))\n",
    "        if height < 0:\n",
    "            print(\"Height cannot be negative.\")\n",
    "        else:\n",
    "            time_taken = calculate_time_to_hit_ground(height)\n",
    "            print(f\"The time taken for the ball to hit the ground from {height} m is {time_taken:.2f} seconds.\")\n",
    "    except ValueError:\n",
    "        print(\"Please enter a valid number.\")\n"
   ]
  },
  {
   "cell_type": "code",
   "execution_count": 29,
   "id": "050c6e75-f3d4-478c-9959-fc3167a512eb",
   "metadata": {},
   "outputs": [
    {
     "name": "stdin",
     "output_type": "stream",
     "text": [
      "Enter the desired period T in seconds:  800000\n"
     ]
    },
    {
     "name": "stdout",
     "output_type": "stream",
     "text": [
      "The altitude of the satellite must be 179826337.88 meters.\n"
     ]
    }
   ],
   "source": [
    "import math\n",
    "\n",
    "def calculate_altitude(T):\n",
    "    G = 6.67e-11  # m^3 kg^-1 s^-2\n",
    "    M = 5.97e24   # kg\n",
    "    R = 6371e3    # m\n",
    "\n",
    "    h = (G * M * T**2 / (4 * math.pi**2))**(1/3) - R\n",
    "    return h\n",
    "\n",
    "# Main program\n",
    "if __name__ == \"__main__\":\n",
    "    try:\n",
    "        T = float(input(\"Enter the desired period T in seconds: \"))\n",
    "        altitude = calculate_altitude(T)\n",
    "        print(f\"The altitude of the satellite must be {altitude:.2f} meters.\")\n",
    "    except ValueError:\n",
    "        print(\"Please enter a valid number for the period.\")\n"
   ]
  },
  {
   "cell_type": "code",
   "execution_count": 31,
   "id": "1897e4c7-0107-4d37-9561-824c07aa6a26",
   "metadata": {},
   "outputs": [
    {
     "name": "stdin",
     "output_type": "stream",
     "text": [
      "Enter the x coordinate:  50\n",
      "Enter the y coordinate:  70\n"
     ]
    },
    {
     "name": "stdout",
     "output_type": "stream",
     "text": [
      "The polar coordinates are:\n",
      "Radius (r): 86.02\n",
      "Angle (θ): 54.46 degrees\n"
     ]
    }
   ],
   "source": [
    "import math\n",
    "\n",
    "def cartesian_to_polar(x, y):\n",
    "    r = math.sqrt(x**2 + y**2)  # Calculate radius\n",
    "    theta = math.atan2(y, x)  # Calculate angle in radians\n",
    "    theta_degrees = math.degrees(theta)  # Convert to degrees\n",
    "    return r, theta_degrees\n",
    "\n",
    "# Main program\n",
    "if __name__ == \"__main__\":\n",
    "    try:\n",
    "        x = float(input(\"Enter the x coordinate: \"))\n",
    "        y = float(input(\"Enter the y coordinate: \"))\n",
    "        \n",
    "        r, theta = cartesian_to_polar(x, y)\n",
    "        \n",
    "        print(f\"The polar coordinates are:\")\n",
    "        print(f\"Radius (r): {r:.2f}\")\n",
    "        print(f\"Angle (θ): {theta:.2f} degrees\")\n",
    "        \n",
    "    except ValueError:\n",
    "        print(\"Please enter valid numbers for the coordinates.\")\n"
   ]
  },
  {
   "cell_type": "code",
   "execution_count": null,
   "id": "e21ceebd-e3f2-441d-b364-9dc92bf03574",
   "metadata": {},
   "outputs": [],
   "source": []
  }
 ],
 "metadata": {
  "kernelspec": {
   "display_name": "anaconda-2024.02-py310",
   "language": "python",
   "name": "conda-env-anaconda-2024.02-py310-py"
  },
  "language_info": {
   "codemirror_mode": {
    "name": "ipython",
    "version": 3
   },
   "file_extension": ".py",
   "mimetype": "text/x-python",
   "name": "python",
   "nbconvert_exporter": "python",
   "pygments_lexer": "ipython3",
   "version": "3.10.14"
  }
 },
 "nbformat": 4,
 "nbformat_minor": 5
}
